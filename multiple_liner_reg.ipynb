{
 "cells": [
  {
   "cell_type": "code",
   "execution_count": 3,
   "id": "b10b4b48",
   "metadata": {},
   "outputs": [],
   "source": [
    "import pandas as pd\n",
    "import numpy as np\n",
    "import matplotlib.pyplot as plt\n",
    "import seaborn as sns"
   ]
  },
  {
   "cell_type": "code",
   "execution_count": 4,
   "id": "e58ffe5f",
   "metadata": {},
   "outputs": [],
   "source": [
    "df=pd.read_csv('dataset.csv')"
   ]
  },
  {
   "cell_type": "code",
   "execution_count": 5,
   "id": "f639d2ee",
   "metadata": {},
   "outputs": [
    {
     "data": {
      "text/html": [
       "<div>\n",
       "<style scoped>\n",
       "    .dataframe tbody tr th:only-of-type {\n",
       "        vertical-align: middle;\n",
       "    }\n",
       "\n",
       "    .dataframe tbody tr th {\n",
       "        vertical-align: top;\n",
       "    }\n",
       "\n",
       "    .dataframe thead th {\n",
       "        text-align: right;\n",
       "    }\n",
       "</style>\n",
       "<table border=\"1\" class=\"dataframe\">\n",
       "  <thead>\n",
       "    <tr style=\"text-align: right;\">\n",
       "      <th></th>\n",
       "      <th>AT</th>\n",
       "      <th>V</th>\n",
       "      <th>AP</th>\n",
       "      <th>RH</th>\n",
       "      <th>PE</th>\n",
       "    </tr>\n",
       "  </thead>\n",
       "  <tbody>\n",
       "    <tr>\n",
       "      <th>0</th>\n",
       "      <td>14.96</td>\n",
       "      <td>41.76</td>\n",
       "      <td>1024.07</td>\n",
       "      <td>73.17</td>\n",
       "      <td>463.26</td>\n",
       "    </tr>\n",
       "    <tr>\n",
       "      <th>1</th>\n",
       "      <td>25.18</td>\n",
       "      <td>62.96</td>\n",
       "      <td>1020.04</td>\n",
       "      <td>59.08</td>\n",
       "      <td>444.37</td>\n",
       "    </tr>\n",
       "    <tr>\n",
       "      <th>2</th>\n",
       "      <td>5.11</td>\n",
       "      <td>39.40</td>\n",
       "      <td>1012.16</td>\n",
       "      <td>92.14</td>\n",
       "      <td>488.56</td>\n",
       "    </tr>\n",
       "    <tr>\n",
       "      <th>3</th>\n",
       "      <td>20.86</td>\n",
       "      <td>57.32</td>\n",
       "      <td>1010.24</td>\n",
       "      <td>76.64</td>\n",
       "      <td>446.48</td>\n",
       "    </tr>\n",
       "    <tr>\n",
       "      <th>4</th>\n",
       "      <td>10.82</td>\n",
       "      <td>37.50</td>\n",
       "      <td>1009.23</td>\n",
       "      <td>96.62</td>\n",
       "      <td>473.90</td>\n",
       "    </tr>\n",
       "  </tbody>\n",
       "</table>\n",
       "</div>"
      ],
      "text/plain": [
       "      AT      V       AP     RH      PE\n",
       "0  14.96  41.76  1024.07  73.17  463.26\n",
       "1  25.18  62.96  1020.04  59.08  444.37\n",
       "2   5.11  39.40  1012.16  92.14  488.56\n",
       "3  20.86  57.32  1010.24  76.64  446.48\n",
       "4  10.82  37.50  1009.23  96.62  473.90"
      ]
     },
     "execution_count": 5,
     "metadata": {},
     "output_type": "execute_result"
    }
   ],
   "source": [
    "df.head()"
   ]
  },
  {
   "cell_type": "code",
   "execution_count": 6,
   "id": "26fdbb67",
   "metadata": {},
   "outputs": [
    {
     "data": {
      "text/plain": [
       "AT    0\n",
       "V     0\n",
       "AP    0\n",
       "RH    0\n",
       "PE    0\n",
       "dtype: int64"
      ]
     },
     "execution_count": 6,
     "metadata": {},
     "output_type": "execute_result"
    }
   ],
   "source": [
    "df.isnull().sum()"
   ]
  },
  {
   "cell_type": "code",
   "execution_count": 7,
   "id": "4e7ec563",
   "metadata": {},
   "outputs": [],
   "source": [
    "x=df.drop(['PE'],axis=1).values\n",
    "y=df['PE'].values"
   ]
  },
  {
   "cell_type": "code",
   "execution_count": 8,
   "id": "9ef7a014",
   "metadata": {},
   "outputs": [],
   "source": [
    "from sklearn.model_selection import train_test_split"
   ]
  },
  {
   "cell_type": "code",
   "execution_count": 9,
   "id": "f61b1a56",
   "metadata": {},
   "outputs": [],
   "source": [
    "x_train,x_test,y_train,y_test=train_test_split(x,y,test_size=0.3,random_state=42)"
   ]
  },
  {
   "cell_type": "code",
   "execution_count": 10,
   "id": "97af216e",
   "metadata": {},
   "outputs": [],
   "source": [
    "from sklearn.linear_model import LinearRegression"
   ]
  },
  {
   "cell_type": "code",
   "execution_count": 11,
   "id": "16b6bdae",
   "metadata": {},
   "outputs": [
    {
     "data": {
      "text/plain": [
       "LinearRegression()"
      ]
     },
     "execution_count": 11,
     "metadata": {},
     "output_type": "execute_result"
    }
   ],
   "source": [
    "lr=LinearRegression()\n",
    "lr.fit(x_train,y_train)"
   ]
  },
  {
   "cell_type": "code",
   "execution_count": 12,
   "id": "63e96342",
   "metadata": {},
   "outputs": [],
   "source": [
    "y_pre=lr.predict(x_test)"
   ]
  },
  {
   "cell_type": "code",
   "execution_count": 13,
   "id": "6a8f85ab",
   "metadata": {},
   "outputs": [
    {
     "data": {
      "text/plain": [
       "array([455.59846369, 438.68009712, 434.119178  , ..., 472.39913842,\n",
       "       476.10393901, 442.00430919])"
      ]
     },
     "execution_count": 13,
     "metadata": {},
     "output_type": "execute_result"
    }
   ],
   "source": [
    "y_pre"
   ]
  },
  {
   "cell_type": "code",
   "execution_count": 14,
   "id": "bbc8d154",
   "metadata": {},
   "outputs": [
    {
     "data": {
      "text/plain": [
       "array([467.15291069])"
      ]
     },
     "execution_count": 14,
     "metadata": {},
     "output_type": "execute_result"
    }
   ],
   "source": [
    "lr.predict([[14.96,41.76,1024.07,73.17]])"
   ]
  },
  {
   "cell_type": "code",
   "execution_count": 15,
   "id": "e2b80e51",
   "metadata": {},
   "outputs": [],
   "source": [
    "from sklearn.metrics import r2_score"
   ]
  },
  {
   "cell_type": "code",
   "execution_count": 17,
   "id": "23f421da",
   "metadata": {},
   "outputs": [
    {
     "data": {
      "text/plain": [
       "0.9275484963869204"
      ]
     },
     "execution_count": 17,
     "metadata": {},
     "output_type": "execute_result"
    }
   ],
   "source": [
    "r2_score(y_test,y_pre)"
   ]
  },
  {
   "cell_type": "code",
   "execution_count": 19,
   "id": "48b06248",
   "metadata": {},
   "outputs": [
    {
     "data": {
      "text/plain": [
       "<matplotlib.collections.PathCollection at 0x1b042e89ee0>"
      ]
     },
     "execution_count": 19,
     "metadata": {},
     "output_type": "execute_result"
    },
    {
     "data": {
      "image/png": "[encoded data removed]",
      "text/plain": [
       "<Figure size 1080x720 with 1 Axes>"
      ]
     },
     "metadata": {
      "needs_background": "light"
     },
     "output_type": "display_data"
    }
   ],
   "source": [
    "plt.figure(figsize=(15,10))\n",
    "plt.scatter(y_test,y_pre)"
   ]
  },
  {
   "cell_type": "code",
   "execution_count": 24,
   "id": "31ec7bb1",
   "metadata": {},
   "outputs": [
    {
     "data": {
      "text/html": [
       "<div>\n",
       "<style scoped>\n",
       "    .dataframe tbody tr th:only-of-type {\n",
       "        vertical-align: middle;\n",
       "    }\n",
       "\n",
       "    .dataframe tbody tr th {\n",
       "        vertical-align: top;\n",
       "    }\n",
       "\n",
       "    .dataframe thead th {\n",
       "        text-align: right;\n",
       "    }\n",
       "</style>\n",
       "<table border=\"1\" class=\"dataframe\">\n",
       "  <thead>\n",
       "    <tr style=\"text-align: right;\">\n",
       "      <th></th>\n",
       "      <th>Actual Value</th>\n",
       "      <th>Predicted value</th>\n",
       "      <th>Difference</th>\n",
       "    </tr>\n",
       "  </thead>\n",
       "  <tbody>\n",
       "    <tr>\n",
       "      <th>0</th>\n",
       "      <td>455.27</td>\n",
       "      <td>455.598464</td>\n",
       "      <td>-0.328464</td>\n",
       "    </tr>\n",
       "    <tr>\n",
       "      <th>1</th>\n",
       "      <td>436.31</td>\n",
       "      <td>438.680097</td>\n",
       "      <td>-2.370097</td>\n",
       "    </tr>\n",
       "    <tr>\n",
       "      <th>2</th>\n",
       "      <td>440.68</td>\n",
       "      <td>434.119178</td>\n",
       "      <td>6.560822</td>\n",
       "    </tr>\n",
       "    <tr>\n",
       "      <th>3</th>\n",
       "      <td>434.40</td>\n",
       "      <td>438.718417</td>\n",
       "      <td>-4.318417</td>\n",
       "    </tr>\n",
       "    <tr>\n",
       "      <th>4</th>\n",
       "      <td>482.06</td>\n",
       "      <td>479.899864</td>\n",
       "      <td>2.160136</td>\n",
       "    </tr>\n",
       "    <tr>\n",
       "      <th>5</th>\n",
       "      <td>436.07</td>\n",
       "      <td>439.460015</td>\n",
       "      <td>-3.390015</td>\n",
       "    </tr>\n",
       "    <tr>\n",
       "      <th>6</th>\n",
       "      <td>452.48</td>\n",
       "      <td>448.753446</td>\n",
       "      <td>3.726554</td>\n",
       "    </tr>\n",
       "    <tr>\n",
       "      <th>7</th>\n",
       "      <td>435.22</td>\n",
       "      <td>434.774861</td>\n",
       "      <td>0.445139</td>\n",
       "    </tr>\n",
       "    <tr>\n",
       "      <th>8</th>\n",
       "      <td>432.93</td>\n",
       "      <td>435.135179</td>\n",
       "      <td>-2.205179</td>\n",
       "    </tr>\n",
       "    <tr>\n",
       "      <th>9</th>\n",
       "      <td>466.46</td>\n",
       "      <td>472.877684</td>\n",
       "      <td>-6.417684</td>\n",
       "    </tr>\n",
       "    <tr>\n",
       "      <th>10</th>\n",
       "      <td>452.85</td>\n",
       "      <td>454.771386</td>\n",
       "      <td>-1.921386</td>\n",
       "    </tr>\n",
       "    <tr>\n",
       "      <th>11</th>\n",
       "      <td>435.71</td>\n",
       "      <td>444.824308</td>\n",
       "      <td>-9.114308</td>\n",
       "    </tr>\n",
       "    <tr>\n",
       "      <th>12</th>\n",
       "      <td>472.04</td>\n",
       "      <td>469.240982</td>\n",
       "      <td>2.799018</td>\n",
       "    </tr>\n",
       "    <tr>\n",
       "      <th>13</th>\n",
       "      <td>439.09</td>\n",
       "      <td>439.311926</td>\n",
       "      <td>-0.221926</td>\n",
       "    </tr>\n",
       "    <tr>\n",
       "      <th>14</th>\n",
       "      <td>458.06</td>\n",
       "      <td>453.665546</td>\n",
       "      <td>4.394454</td>\n",
       "    </tr>\n",
       "    <tr>\n",
       "      <th>15</th>\n",
       "      <td>465.93</td>\n",
       "      <td>469.288173</td>\n",
       "      <td>-3.358173</td>\n",
       "    </tr>\n",
       "    <tr>\n",
       "      <th>16</th>\n",
       "      <td>478.94</td>\n",
       "      <td>477.695194</td>\n",
       "      <td>1.244806</td>\n",
       "    </tr>\n",
       "    <tr>\n",
       "      <th>17</th>\n",
       "      <td>448.77</td>\n",
       "      <td>448.833336</td>\n",
       "      <td>-0.063336</td>\n",
       "    </tr>\n",
       "    <tr>\n",
       "      <th>18</th>\n",
       "      <td>468.86</td>\n",
       "      <td>466.051093</td>\n",
       "      <td>2.808907</td>\n",
       "    </tr>\n",
       "    <tr>\n",
       "      <th>19</th>\n",
       "      <td>432.66</td>\n",
       "      <td>437.192290</td>\n",
       "      <td>-4.532290</td>\n",
       "    </tr>\n",
       "    <tr>\n",
       "      <th>20</th>\n",
       "      <td>469.73</td>\n",
       "      <td>475.815718</td>\n",
       "      <td>-6.085718</td>\n",
       "    </tr>\n",
       "    <tr>\n",
       "      <th>21</th>\n",
       "      <td>431.97</td>\n",
       "      <td>427.009754</td>\n",
       "      <td>4.960246</td>\n",
       "    </tr>\n",
       "    <tr>\n",
       "      <th>22</th>\n",
       "      <td>435.56</td>\n",
       "      <td>429.235788</td>\n",
       "      <td>6.324212</td>\n",
       "    </tr>\n",
       "    <tr>\n",
       "      <th>23</th>\n",
       "      <td>462.59</td>\n",
       "      <td>463.389162</td>\n",
       "      <td>-0.799162</td>\n",
       "    </tr>\n",
       "    <tr>\n",
       "      <th>24</th>\n",
       "      <td>456.25</td>\n",
       "      <td>452.047387</td>\n",
       "      <td>4.202613</td>\n",
       "    </tr>\n",
       "    <tr>\n",
       "      <th>25</th>\n",
       "      <td>464.79</td>\n",
       "      <td>466.761868</td>\n",
       "      <td>-1.971868</td>\n",
       "    </tr>\n",
       "    <tr>\n",
       "      <th>26</th>\n",
       "      <td>443.73</td>\n",
       "      <td>441.229978</td>\n",
       "      <td>2.500022</td>\n",
       "    </tr>\n",
       "    <tr>\n",
       "      <th>27</th>\n",
       "      <td>438.76</td>\n",
       "      <td>434.917304</td>\n",
       "      <td>3.842696</td>\n",
       "    </tr>\n",
       "    <tr>\n",
       "      <th>28</th>\n",
       "      <td>465.42</td>\n",
       "      <td>466.853317</td>\n",
       "      <td>-1.433317</td>\n",
       "    </tr>\n",
       "    <tr>\n",
       "      <th>29</th>\n",
       "      <td>467.11</td>\n",
       "      <td>464.941688</td>\n",
       "      <td>2.168312</td>\n",
       "    </tr>\n",
       "    <tr>\n",
       "      <th>30</th>\n",
       "      <td>452.84</td>\n",
       "      <td>454.529241</td>\n",
       "      <td>-1.689241</td>\n",
       "    </tr>\n",
       "    <tr>\n",
       "      <th>31</th>\n",
       "      <td>443.31</td>\n",
       "      <td>445.635031</td>\n",
       "      <td>-2.325031</td>\n",
       "    </tr>\n",
       "    <tr>\n",
       "      <th>32</th>\n",
       "      <td>480.62</td>\n",
       "      <td>472.669403</td>\n",
       "      <td>7.950597</td>\n",
       "    </tr>\n",
       "    <tr>\n",
       "      <th>33</th>\n",
       "      <td>464.49</td>\n",
       "      <td>464.975485</td>\n",
       "      <td>-0.485485</td>\n",
       "    </tr>\n",
       "    <tr>\n",
       "      <th>34</th>\n",
       "      <td>454.86</td>\n",
       "      <td>453.073403</td>\n",
       "      <td>1.786597</td>\n",
       "    </tr>\n",
       "    <tr>\n",
       "      <th>35</th>\n",
       "      <td>432.26</td>\n",
       "      <td>432.163744</td>\n",
       "      <td>0.096256</td>\n",
       "    </tr>\n",
       "    <tr>\n",
       "      <th>36</th>\n",
       "      <td>449.03</td>\n",
       "      <td>450.865322</td>\n",
       "      <td>-1.835322</td>\n",
       "    </tr>\n",
       "    <tr>\n",
       "      <th>37</th>\n",
       "      <td>467.05</td>\n",
       "      <td>465.540087</td>\n",
       "      <td>1.509913</td>\n",
       "    </tr>\n",
       "    <tr>\n",
       "      <th>38</th>\n",
       "      <td>453.32</td>\n",
       "      <td>458.573633</td>\n",
       "      <td>-5.253633</td>\n",
       "    </tr>\n",
       "    <tr>\n",
       "      <th>39</th>\n",
       "      <td>479.78</td>\n",
       "      <td>482.805026</td>\n",
       "      <td>-3.025026</td>\n",
       "    </tr>\n",
       "    <tr>\n",
       "      <th>40</th>\n",
       "      <td>478.34</td>\n",
       "      <td>472.230503</td>\n",
       "      <td>6.109497</td>\n",
       "    </tr>\n",
       "    <tr>\n",
       "      <th>41</th>\n",
       "      <td>440.13</td>\n",
       "      <td>440.567919</td>\n",
       "      <td>-0.437919</td>\n",
       "    </tr>\n",
       "    <tr>\n",
       "      <th>42</th>\n",
       "      <td>430.16</td>\n",
       "      <td>433.652876</td>\n",
       "      <td>-3.492876</td>\n",
       "    </tr>\n",
       "    <tr>\n",
       "      <th>43</th>\n",
       "      <td>429.13</td>\n",
       "      <td>432.337869</td>\n",
       "      <td>-3.207869</td>\n",
       "    </tr>\n",
       "    <tr>\n",
       "      <th>44</th>\n",
       "      <td>471.32</td>\n",
       "      <td>473.390638</td>\n",
       "      <td>-2.070638</td>\n",
       "    </tr>\n",
       "    <tr>\n",
       "      <th>45</th>\n",
       "      <td>457.45</td>\n",
       "      <td>464.081227</td>\n",
       "      <td>-6.631227</td>\n",
       "    </tr>\n",
       "    <tr>\n",
       "      <th>46</th>\n",
       "      <td>436.95</td>\n",
       "      <td>439.923888</td>\n",
       "      <td>-2.973888</td>\n",
       "    </tr>\n",
       "    <tr>\n",
       "      <th>47</th>\n",
       "      <td>438.83</td>\n",
       "      <td>438.931530</td>\n",
       "      <td>-0.101530</td>\n",
       "    </tr>\n",
       "    <tr>\n",
       "      <th>48</th>\n",
       "      <td>440.13</td>\n",
       "      <td>439.947480</td>\n",
       "      <td>0.182520</td>\n",
       "    </tr>\n",
       "    <tr>\n",
       "      <th>49</th>\n",
       "      <td>481.34</td>\n",
       "      <td>475.319883</td>\n",
       "      <td>6.020117</td>\n",
       "    </tr>\n",
       "  </tbody>\n",
       "</table>\n",
       "</div>"
      ],
      "text/plain": [
       "     Actual Value    Predicted value    Difference \n",
       "0           455.27         455.598464     -0.328464\n",
       "1           436.31         438.680097     -2.370097\n",
       "2           440.68         434.119178      6.560822\n",
       "3           434.40         438.718417     -4.318417\n",
       "4           482.06         479.899864      2.160136\n",
       "5           436.07         439.460015     -3.390015\n",
       "6           452.48         448.753446      3.726554\n",
       "7           435.22         434.774861      0.445139\n",
       "8           432.93         435.135179     -2.205179\n",
       "9           466.46         472.877684     -6.417684\n",
       "10          452.85         454.771386     -1.921386\n",
       "11          435.71         444.824308     -9.114308\n",
       "12          472.04         469.240982      2.799018\n",
       "13          439.09         439.311926     -0.221926\n",
       "14          458.06         453.665546      4.394454\n",
       "15          465.93         469.288173     -3.358173\n",
       "16          478.94         477.695194      1.244806\n",
       "17          448.77         448.833336     -0.063336\n",
       "18          468.86         466.051093      2.808907\n",
       "19          432.66         437.192290     -4.532290\n",
       "20          469.73         475.815718     -6.085718\n",
       "21          431.97         427.009754      4.960246\n",
       "22          435.56         429.235788      6.324212\n",
       "23          462.59         463.389162     -0.799162\n",
       "24          456.25         452.047387      4.202613\n",
       "25          464.79         466.761868     -1.971868\n",
       "26          443.73         441.229978      2.500022\n",
       "27          438.76         434.917304      3.842696\n",
       "28          465.42         466.853317     -1.433317\n",
       "29          467.11         464.941688      2.168312\n",
       "30          452.84         454.529241     -1.689241\n",
       "31          443.31         445.635031     -2.325031\n",
       "32          480.62         472.669403      7.950597\n",
       "33          464.49         464.975485     -0.485485\n",
       "34          454.86         453.073403      1.786597\n",
       "35          432.26         432.163744      0.096256\n",
       "36          449.03         450.865322     -1.835322\n",
       "37          467.05         465.540087      1.509913\n",
       "38          453.32         458.573633     -5.253633\n",
       "39          479.78         482.805026     -3.025026\n",
       "40          478.34         472.230503      6.109497\n",
       "41          440.13         440.567919     -0.437919\n",
       "42          430.16         433.652876     -3.492876\n",
       "43          429.13         432.337869     -3.207869\n",
       "44          471.32         473.390638     -2.070638\n",
       "45          457.45         464.081227     -6.631227\n",
       "46          436.95         439.923888     -2.973888\n",
       "47          438.83         438.931530     -0.101530\n",
       "48          440.13         439.947480      0.182520\n",
       "49          481.34         475.319883      6.020117"
      ]
     },
     "execution_count": 24,
     "metadata": {},
     "output_type": "execute_result"
    }
   ],
   "source": [
    "pred_y_df = pd . DataFrame ( { ' Actual Value ' : y_test , ' Predicted value ' : y_pre , ' Difference ' : y_test - y_pre } )\n",
    "pred_y_df.head(50)"
   ]
  },
  {
   "cell_type": "code",
   "execution_count": 25,
   "id": "9b64d76f",
   "metadata": {},
   "outputs": [
    {
     "data": {
      "text/plain": [
       "[<matplotlib.lines.Line2D at 0x1b042163760>]"
      ]
     },
     "execution_count": 25,
     "metadata": {},
     "output_type": "execute_result"
    },
    {
     "data": {
      "image/png": "[encoded data removed]",
      "text/plain": [
       "<Figure size 432x288 with 1 Axes>"
      ]
     },
     "metadata": {
      "needs_background": "light"
     },
     "output_type": "display_data"
    }
   ],
   "source": [
    "plt.plot(y_pre)"
   ]
  },
  {
   "cell_type": "code",
   "execution_count": null,
   "id": "fa74d4fe",
   "metadata": {},
   "outputs": [],
   "source": []
  }
 ],
 "metadata": {
  "kernelspec": {
   "display_name": "Python 3 (ipykernel)",
   "language": "python",
   "name": "python3"
  },
  "language_info": {
   "codemirror_mode": {
    "name": "ipython",
    "version": 3
   },
   "file_extension": ".py",
   "mimetype": "text/x-python",
   "name": "python",
   "nbconvert_exporter": "python",
   "pygments_lexer": "ipython3",
   "version": "3.9.12"
  }
 },
 "nbformat": 4,
 "nbformat_minor": 5
}
